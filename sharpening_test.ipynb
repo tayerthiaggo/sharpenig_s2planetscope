{
 "cells": [
  {
   "cell_type": "code",
   "execution_count": null,
   "id": "wanted-separate",
   "metadata": {},
   "outputs": [],
   "source": [
    "%load_ext autoreload\n",
    "%autoreload 2\n",
    "\n",
    "from sharpen_classes import Sharpen, stack_sharpen_vnir_swir"
   ]
  },
  {
   "cell_type": "code",
   "execution_count": null,
   "id": "emotional-cream",
   "metadata": {},
   "outputs": [],
   "source": [
    "import os\n",
    "\n",
    "in_planet_folder = r'D:\\Chapter_1\\planet'\n",
    "in_s2_vnir = r'D:\\Chapter_1\\s2\\vnir'\n",
    "in_s2_swir = r'D:\\Chapter_1\\s2\\swir'\n",
    "extension = '.tif'\n",
    "\n",
    "planet_files = [os.path.join(in_planet_folder, f) for f in os.listdir(in_planet_folder) if f.endswith(extension)]\n",
    "s2_vnir_files = [os.path.join(in_s2_vnir, f) for f in os.listdir(in_s2_vnir) if f.endswith(extension)]\n",
    "s2_swir_files = [os.path.join(in_s2_swir, f) for f in os.listdir(in_s2_swir) if f.endswith(extension)]\n",
    "\n",
    "raw_images = list(zip(planet_files, s2_vnir_files, s2_swir_files))"
   ]
  },
  {
   "cell_type": "code",
   "execution_count": null,
   "id": "vertical-serve",
   "metadata": {},
   "outputs": [],
   "source": [
    "out_path_vnir = r'D:\\Chapter_1\\sharpen\\test_del\\vnir'\n",
    "out_path_swir = r'D:\\Chapter_1\\sharpen\\test_del\\swir'\n",
    "\n",
    "for ps, s2_vnir, s2_swir in raw_images:\n",
    "    \n",
    "    x_vnir = Sharpen(ps, s2_vnir, out_path_vnir)\n",
    "    sharpen_vnir = x_vnir.hpf_sharpening()\n",
    "    raster_name= os.path.join(out_path_vnir, 'sharpen_' + os.path.basename(s2_vnir)[3:])\n",
    "    sharpen_vnir.rio.to_raster(raster_name, compress='lzw')\n",
    "                             \n",
    "    x_swir = Sharpen(ps, s2_swir, out_path_swir, synth=True)\n",
    "    sharpen_swir = x_swir.hpf_sharpening()\n",
    "\n",
    "    raster_name= os.path.join(out_path_swir, 'sharpen_' + os.path.basename(s2_swir)[3:])\n",
    "    stack_sharpen_vnir_swir (sharpen_vnir, sharpen_swir, raster_name)"
   ]
  },
  {
   "cell_type": "code",
   "execution_count": null,
   "id": "vital-vault",
   "metadata": {},
   "outputs": [],
   "source": []
  }
 ],
 "metadata": {
  "kernelspec": {
   "display_name": "Python 3",
   "language": "python",
   "name": "python3"
  },
  "language_info": {
   "codemirror_mode": {
    "name": "ipython",
    "version": 3
   },
   "file_extension": ".py",
   "mimetype": "text/x-python",
   "name": "python",
   "nbconvert_exporter": "python",
   "pygments_lexer": "ipython3",
   "version": "3.8.5"
  }
 },
 "nbformat": 4,
 "nbformat_minor": 5
}
