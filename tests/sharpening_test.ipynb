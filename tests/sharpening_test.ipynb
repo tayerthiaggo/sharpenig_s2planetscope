{
 "cells": [
  {
   "cell_type": "code",
   "execution_count": null,
   "id": "industrial-trial",
   "metadata": {},
   "outputs": [],
   "source": [
    "%load_ext autoreload\n",
    "%autoreload 2\n",
    "\n",
    "import os\n",
    "path_parent = os.path.dirname(os.getcwd())\n",
    "data_path = os.path.join(path_parent, 'data')\n",
    "os.chdir(path_parent)\n",
    "from sharpen_s2_ps.sharpen_classes import Sharpen, stack_sharpen_vnir_swir"
   ]
  },
  {
   "cell_type": "markdown",
   "id": "historic-joining",
   "metadata": {},
   "source": [
    "## VNIR Sharpening"
   ]
  },
  {
   "cell_type": "code",
   "execution_count": null,
   "id": "australian-client",
   "metadata": {},
   "outputs": [],
   "source": [
    "import xarray as xr\n",
    "#set input files\n",
    "ms_pan = os.path.join(data_path, os.listdir(data_path)[0])\n",
    "ms_target = os.path.join(data_path,os.listdir(data_path)[2])\n",
    "out_path = path_parent\n",
    "#run sharpening\n",
    "sharp_vnir = Sharpen(ms_pan, ms_target, out_path, synth=False).hpf_sharpening()\n",
    "#export results\n",
    "raster_name = os.path.join(out_path, 'sharpened_results', 'sharpened_vnir.tif')\n",
    "sharp_vnir.rio.to_raster(raster_name, compress='lzw')"
   ]
  },
  {
   "cell_type": "markdown",
   "id": "competitive-sleeve",
   "metadata": {},
   "source": [
    "## SWIR Synthesizing and Sharpening"
   ]
  },
  {
   "cell_type": "code",
   "execution_count": null,
   "id": "turned-editing",
   "metadata": {},
   "outputs": [],
   "source": [
    "#set input files\n",
    "ms_pan = os.path.join(data_path, os.listdir(data_path)[0])\n",
    "ms_target = os.path.join(data_path,os.listdir(data_path)[2])\n",
    "ms_target_swir = os.path.join(data_path,os.listdir(data_path)[1])\n",
    "out_path = path_parent\n",
    "#run vnir sharpening\n",
    "sharp_vnir = Sharpen(ms_pan, ms_target, out_path, synth=False).hpf_sharpening()\n",
    "#run swir synthesizing and sharpening\n",
    "sharp_swir = Sharpen(ms_pan, ms_target_swir, out_path, synth=True).hpf_sharpening()\n",
    "#export results\n",
    "raster_name = os.path.join(out_path, 'sharpened_results', 'sharpened_swir.tif')\n",
    "stack_sharpen_vnir_swir (sharp_vnir, sharp_swir, raster_name)"
   ]
  },
  {
   "cell_type": "code",
   "execution_count": null,
   "id": "smooth-aspect",
   "metadata": {},
   "outputs": [],
   "source": []
  }
 ],
 "metadata": {
  "kernelspec": {
   "display_name": "Python 3",
   "language": "python",
   "name": "python3"
  },
  "language_info": {
   "codemirror_mode": {
    "name": "ipython",
    "version": 3
   },
   "file_extension": ".py",
   "mimetype": "text/x-python",
   "name": "python",
   "nbconvert_exporter": "python",
   "pygments_lexer": "ipython3",
   "version": "3.8.5"
  }
 },
 "nbformat": 4,
 "nbformat_minor": 5
}
